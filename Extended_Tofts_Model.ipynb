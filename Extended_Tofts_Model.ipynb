{
 "cells": [
  {
   "cell_type": "code",
   "execution_count": null,
   "metadata": {},
   "outputs": [],
   "source": [
    "from scipy import integrate \n",
    "from scipy.optimize import curve_fit\n",
    "\n",
    "def Extended_Tofts_Integral(t, Cp, Kt=0.1, ve=0.2, vp=0.1, uniform_sampling=True):\n",
    "    nt = len(t)\n",
    "    Ct = np.zeros(nt)\n",
    "    for k in range(nt):\n",
    "        tmp = vp*Cp[:k+1] + integrate.cumtrapz(np.exp(-Kt*(t[k]-t[:k+1])/ve)*Cp[:k+1],t[:k+1], initial=0.0)\n",
    "        Ct[k] = tmp[-1]\n",
    "    return Ct\n",
    "\n",
    "def FIT(Ct, Cp, time):\n",
    "    fit_func = lambda t, Kt, ve, vp: ext_tofts_integral(t, Cp, Kt=Kt, ve=ve,vp=vp)\n",
    "    ini = [0.01, 0.01, 0.01]\n",
    "    popt, pcov = curve_fit(fit_func, time, Ct, p0=ini)\n",
    "    return popt, pcov"
   ]
  }
 ],
 "metadata": {
  "kernelspec": {
   "display_name": "TF14",
   "language": "python",
   "name": "tf14"
  },
  "language_info": {
   "codemirror_mode": {
    "name": "ipython",
    "version": 3
   },
   "file_extension": ".py",
   "mimetype": "text/x-python",
   "name": "python",
   "nbconvert_exporter": "python",
   "pygments_lexer": "ipython3",
   "version": "3.6.9"
  }
 },
 "nbformat": 4,
 "nbformat_minor": 2
}
